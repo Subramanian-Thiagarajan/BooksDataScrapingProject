{
 "cells": [
  {
   "cell_type": "markdown",
   "metadata": {
    "application/vnd.databricks.v1+cell": {
     "cellMetadata": {
      "byteLimit": 2048000,
      "rowLimit": 10000
     },
     "inputWidgets": {},
     "nuid": "47ca113d-1009-44e6-a701-38973666fd37",
     "showTitle": false,
     "title": ""
    }
   },
   "source": [
    "# ETL Template Project"
   ]
  },
  {
   "cell_type": "markdown",
   "metadata": {
    "application/vnd.databricks.v1+cell": {
     "cellMetadata": {
      "byteLimit": 2048000,
      "rowLimit": 10000
     },
     "inputWidgets": {},
     "nuid": "cc0c1231-11fa-4ec1-9fdb-311832e64ff1",
     "showTitle": false,
     "title": ""
    }
   },
   "source": [
    "### Import necessary packages and modules"
   ]
  },
  {
   "cell_type": "code",
   "execution_count": 0,
   "metadata": {
    "application/vnd.databricks.v1+cell": {
     "cellMetadata": {
      "byteLimit": 2048000,
      "rowLimit": 10000
     },
     "inputWidgets": {},
     "nuid": "1f93ad1f-1ac2-45de-8826-24962db7856b",
     "showTitle": false,
     "title": ""
    }
   },
   "outputs": [],
   "source": [
    "from pyspark.sql.functions import *\n",
    "from pyspark.sql.types import *"
   ]
  },
  {
   "cell_type": "markdown",
   "metadata": {
    "application/vnd.databricks.v1+cell": {
     "cellMetadata": {
      "byteLimit": 2048000,
      "rowLimit": 10000
     },
     "inputWidgets": {},
     "nuid": "49b207f7-5975-4943-b712-352a45abdaea",
     "showTitle": false,
     "title": ""
    }
   },
   "source": [
    "### Read the Data from CSV file into a dataframe"
   ]
  },
  {
   "cell_type": "code",
   "execution_count": 0,
   "metadata": {
    "application/vnd.databricks.v1+cell": {
     "cellMetadata": {
      "byteLimit": 2048000,
      "rowLimit": 10000
     },
     "inputWidgets": {},
     "nuid": "36e606af-518d-4e8a-9b22-8db744a72c51",
     "showTitle": false,
     "title": ""
    }
   },
   "outputs": [
    {
     "output_type": "stream",
     "name": "stdout",
     "output_type": "stream",
     "text": [
      "+-----+--------+--------------------+-----+--------------------+------------+-----------------+-------+---------+-----------------+----------+\n|index|      id|               title| type|         description|release_year|age_certification|runtime|  imdb_id|       imdb_score|imdb_votes|\n+-----+--------+--------------------+-----+--------------------+------------+-----------------+-------+---------+-----------------+----------+\n|    0| tm84618|         Taxi Driver|MOVIE|A mentally unstab...|        1976|                R|    113|tt0075314|              8.3|  795222.0|\n|    1|tm127384|Monty Python and ...|MOVIE|\"King Arthur, acc...|        1975|               PG|     91|tt0071853|8.199999999999998|  530877.0|\n|    2| tm70993|       Life of Brian|MOVIE|Brian Cohen is an...|        1979|                R|     94|tt0079470|              8.0|  392419.0|\n|    3|tm190788|        The Exorcist|MOVIE|12-year-old Regan...|        1973|                R|    133|tt0070047|              8.1|  391942.0|\n|    4| ts22164|Monty Python's Fl...| SHOW|A British sketch ...|        1969|            TV-14|     30|tt0063929|              8.8|   72895.0|\n+-----+--------+--------------------+-----+--------------------+------------+-----------------+-------+---------+-----------------+----------+\nonly showing top 5 rows\n\n"
     ]
    }
   ],
   "source": [
    "df = spark.read.csv('dbfs:/FileStore/tables/Netflix_TV_Shows_and_Movies.csv',header=True)\n",
    "df.show(5)"
   ]
  },
  {
   "cell_type": "markdown",
   "metadata": {
    "application/vnd.databricks.v1+cell": {
     "cellMetadata": {
      "byteLimit": 2048000,
      "rowLimit": 10000
     },
     "inputWidgets": {},
     "nuid": "9967a766-2f1d-4225-9d81-d5466cd1f1da",
     "showTitle": false,
     "title": ""
    }
   },
   "source": [
    "### Convert the column data types"
   ]
  },
  {
   "cell_type": "code",
   "execution_count": 0,
   "metadata": {
    "application/vnd.databricks.v1+cell": {
     "cellMetadata": {
      "byteLimit": 2048000,
      "rowLimit": 10000
     },
     "inputWidgets": {},
     "nuid": "05aa8ad7-e355-4de6-80b9-ae5d2287bddf",
     "showTitle": false,
     "title": ""
    }
   },
   "outputs": [
    {
     "output_type": "stream",
     "name": "stdout",
     "output_type": "stream",
     "text": [
      "root\n |-- index: integer (nullable = true)\n |-- id: string (nullable = true)\n |-- title: string (nullable = true)\n |-- type: string (nullable = true)\n |-- description: string (nullable = true)\n |-- release_year: integer (nullable = true)\n |-- age_certification: string (nullable = true)\n |-- runtime: double (nullable = true)\n |-- imdb_id: string (nullable = true)\n |-- imdb_score: double (nullable = true)\n |-- imdb_votes: double (nullable = true)\n\n"
     ]
    }
   ],
   "source": [
    "col = df.columns\n",
    "colDtype = {\n",
    "    'index':IntegerType(), \n",
    "    'release_year': IntegerType(), \n",
    "    'runtime': DoubleType(), \n",
    "    'imdb_score': DoubleType(), \n",
    "    'imdb_votes': DoubleType()\n",
    "}\n",
    "for i,j in colDtype.items():\n",
    "    df = df.withColumn(i,df[i].cast(j))\n",
    "\n",
    "df.printSchema()"
   ]
  },
  {
   "cell_type": "markdown",
   "metadata": {
    "application/vnd.databricks.v1+cell": {
     "cellMetadata": {
      "byteLimit": 2048000,
      "rowLimit": 10000
     },
     "inputWidgets": {},
     "nuid": "d075a257-4f86-4031-8e32-de93f0ce3dbc",
     "showTitle": false,
     "title": ""
    }
   },
   "source": [
    "### Deduplication"
   ]
  },
  {
   "cell_type": "code",
   "execution_count": 0,
   "metadata": {
    "application/vnd.databricks.v1+cell": {
     "cellMetadata": {
      "byteLimit": 2048000,
      "rowLimit": 10000
     },
     "inputWidgets": {},
     "nuid": "418cab7e-f999-462d-a91a-fe1e3f86344d",
     "showTitle": false,
     "title": ""
    }
   },
   "outputs": [
    {
     "output_type": "stream",
     "name": "stdout",
     "output_type": "stream",
     "text": [
      "+-----+--------+--------------------+-----+--------------------+------------+-----------------+-------+---------+-----------------+----------+\n|index|      id|               title| type|         description|release_year|age_certification|runtime|  imdb_id|       imdb_score|imdb_votes|\n+-----+--------+--------------------+-----+--------------------+------------+-----------------+-------+---------+-----------------+----------+\n|    2| tm70993|       Life of Brian|MOVIE|Brian Cohen is an...|        1979|                R|   94.0|tt0079470|              8.0|  392419.0|\n|    4| ts22164|Monty Python's Fl...| SHOW|A British sketch ...|        1969|            TV-14|   30.0|tt0063929|              8.8|   72895.0|\n|    1|tm127384|Monty Python and ...|MOVIE|\"King Arthur, acc...|        1975|               PG|   91.0|tt0071853|8.199999999999998|  530877.0|\n|    5| tm14873|         Dirty Harry|MOVIE|When a madman dub...|        1971|                R|  102.0|tt0066999|              7.7|  153463.0|\n|    3|tm190788|        The Exorcist|MOVIE|12-year-old Regan...|        1973|                R|  133.0|tt0070047|              8.1|  391942.0|\n+-----+--------+--------------------+-----+--------------------+------------+-----------------+-------+---------+-----------------+----------+\nonly showing top 5 rows\n\n"
     ]
    }
   ],
   "source": [
    "# Drop Duplicates when all the columns contains the same value\n",
    "df = df.dropDuplicates()\n",
    "df.show(5)"
   ]
  },
  {
   "cell_type": "markdown",
   "metadata": {
    "application/vnd.databricks.v1+cell": {
     "cellMetadata": {
      "byteLimit": 2048000,
      "rowLimit": 10000
     },
     "inputWidgets": {},
     "nuid": "24d3cea2-271e-454e-b99c-6c883a621fdd",
     "showTitle": false,
     "title": ""
    }
   },
   "source": [
    "### Filtering Rows\n",
    "- Drop Null Values if required\n",
    "- Drop other rows based on business use case"
   ]
  },
  {
   "cell_type": "code",
   "execution_count": 0,
   "metadata": {
    "application/vnd.databricks.v1+cell": {
     "cellMetadata": {
      "byteLimit": 2048000,
      "rowLimit": 10000
     },
     "inputWidgets": {},
     "nuid": "d2cc6d2d-6c2b-4f34-8fae-dac803288214",
     "showTitle": false,
     "title": ""
    }
   },
   "outputs": [
    {
     "output_type": "stream",
     "name": "stdout",
     "output_type": "stream",
     "text": [
      "+-----+--------+--------------------+-----+--------------------+------------+-----------------+-------+---------+-----------------+----------+\n|index|      id|               title| type|         description|release_year|age_certification|runtime|  imdb_id|       imdb_score|imdb_votes|\n+-----+--------+--------------------+-----+--------------------+------------+-----------------+-------+---------+-----------------+----------+\n|    2| tm70993|       Life of Brian|MOVIE|Brian Cohen is an...|        1979|                R|   94.0|tt0079470|              8.0|  392419.0|\n|    4| ts22164|Monty Python's Fl...| SHOW|A British sketch ...|        1969|            TV-14|   30.0|tt0063929|              8.8|   72895.0|\n|    1|tm127384|Monty Python and ...|MOVIE|\"King Arthur, acc...|        1975|               PG|   91.0|tt0071853|8.199999999999998|  530877.0|\n|    5| tm14873|         Dirty Harry|MOVIE|When a madman dub...|        1971|                R|  102.0|tt0066999|              7.7|  153463.0|\n|    3|tm190788|        The Exorcist|MOVIE|12-year-old Regan...|        1973|                R|  133.0|tt0070047|              8.1|  391942.0|\n+-----+--------+--------------------+-----+--------------------+------------+-----------------+-------+---------+-----------------+----------+\nonly showing top 5 rows\n\n"
     ]
    }
   ],
   "source": [
    "## Drop if all the values in the row are null\n",
    "df = df.na.drop(how='all')\n",
    "df.show(5)"
   ]
  },
  {
   "cell_type": "code",
   "execution_count": 0,
   "metadata": {
    "application/vnd.databricks.v1+cell": {
     "cellMetadata": {
      "byteLimit": 2048000,
      "rowLimit": 10000
     },
     "inputWidgets": {},
     "nuid": "bff21608-2aa1-4b2c-a55d-cda064a3aaec",
     "showTitle": false,
     "title": ""
    }
   },
   "outputs": [
    {
     "output_type": "stream",
     "name": "stdout",
     "output_type": "stream",
     "text": [
      "+-----+--------+--------------------+-----+--------------------+------------+-----------------+-------+---------+-----------------+----------+\n|index|      id|               title| type|         description|release_year|age_certification|runtime|  imdb_id|       imdb_score|imdb_votes|\n+-----+--------+--------------------+-----+--------------------+------------+-----------------+-------+---------+-----------------+----------+\n|    2| tm70993|       Life of Brian|MOVIE|Brian Cohen is an...|        1979|                R|   94.0|tt0079470|              8.0|  392419.0|\n|    4| ts22164|Monty Python's Fl...| SHOW|A British sketch ...|        1969|            TV-14|   30.0|tt0063929|              8.8|   72895.0|\n|    1|tm127384|Monty Python and ...|MOVIE|\"King Arthur, acc...|        1975|               PG|   91.0|tt0071853|8.199999999999998|  530877.0|\n|    5| tm14873|         Dirty Harry|MOVIE|When a madman dub...|        1971|                R|  102.0|tt0066999|              7.7|  153463.0|\n|    3|tm190788|        The Exorcist|MOVIE|12-year-old Regan...|        1973|                R|  133.0|tt0070047|              8.1|  391942.0|\n+-----+--------+--------------------+-----+--------------------+------------+-----------------+-------+---------+-----------------+----------+\nonly showing top 5 rows\n\n"
     ]
    }
   ],
   "source": [
    "## Drop if any of the columns in a row is null\n",
    "df = df.na.drop(subset=[\"index\",\"id\",\"title\"])\n",
    "df.show(5)"
   ]
  },
  {
   "cell_type": "markdown",
   "metadata": {
    "application/vnd.databricks.v1+cell": {
     "cellMetadata": {
      "byteLimit": 2048000,
      "rowLimit": 10000
     },
     "inputWidgets": {},
     "nuid": "2ce80541-9832-440f-b858-29582987fa03",
     "showTitle": false,
     "title": ""
    }
   },
   "source": [
    "### Filter Columns"
   ]
  },
  {
   "cell_type": "code",
   "execution_count": 0,
   "metadata": {
    "application/vnd.databricks.v1+cell": {
     "cellMetadata": {
      "byteLimit": 2048000,
      "rowLimit": 10000
     },
     "inputWidgets": {},
     "nuid": "f09b358d-7e20-404c-9d73-a89135ff0a3e",
     "showTitle": false,
     "title": ""
    }
   },
   "outputs": [
    {
     "output_type": "stream",
     "name": "stdout",
     "output_type": "stream",
     "text": [
      "+-----+--------+--------------------+-----+------------+-----------------+-------+---------+-----------------+----------+\n|index|      id|               title| type|release_year|age_certification|runtime|  imdb_id|       imdb_score|imdb_votes|\n+-----+--------+--------------------+-----+------------+-----------------+-------+---------+-----------------+----------+\n|    2| tm70993|       Life of Brian|MOVIE|        1979|                R|   94.0|tt0079470|              8.0|  392419.0|\n|    4| ts22164|Monty Python's Fl...| SHOW|        1969|            TV-14|   30.0|tt0063929|              8.8|   72895.0|\n|    1|tm127384|Monty Python and ...|MOVIE|        1975|               PG|   91.0|tt0071853|8.199999999999998|  530877.0|\n|    5| tm14873|         Dirty Harry|MOVIE|        1971|                R|  102.0|tt0066999|              7.7|  153463.0|\n|    3|tm190788|        The Exorcist|MOVIE|        1973|                R|  133.0|tt0070047|              8.1|  391942.0|\n+-----+--------+--------------------+-----+------------+-----------------+-------+---------+-----------------+----------+\nonly showing top 5 rows\n\n"
     ]
    }
   ],
   "source": [
    "df = df.drop('description')\n",
    "df.show(5)"
   ]
  },
  {
   "cell_type": "markdown",
   "metadata": {
    "application/vnd.databricks.v1+cell": {
     "cellMetadata": {
      "byteLimit": 2048000,
      "rowLimit": 10000
     },
     "inputWidgets": {},
     "nuid": "b993b181-9622-413f-abc5-11935f39ffb5",
     "showTitle": false,
     "title": ""
    }
   },
   "source": [
    "### Value Standardization and cleansing"
   ]
  },
  {
   "cell_type": "code",
   "execution_count": 0,
   "metadata": {
    "application/vnd.databricks.v1+cell": {
     "cellMetadata": {
      "byteLimit": 2048000,
      "rowLimit": 10000
     },
     "inputWidgets": {},
     "nuid": "d5858988-cb8d-4a39-93cc-fe5edc1b2440",
     "showTitle": false,
     "title": ""
    }
   },
   "outputs": [
    {
     "output_type": "stream",
     "name": "stdout",
     "output_type": "stream",
     "text": [
      "+-----+--------+--------------------+-----+------------+-----------------+-------+---------+----------+----------+\n|index|      id|               title| type|release_year|age_certification|runtime|  imdb_id|imdb_score|imdb_votes|\n+-----+--------+--------------------+-----+------------+-----------------+-------+---------+----------+----------+\n|    2| tm70993|       Life of Brian|MOVIE|        1979|                R|   94.0|tt0079470|       8.0|  392419.0|\n|    4| ts22164|Monty Python's Fl...| SHOW|        1969|            TV-14|   30.0|tt0063929|       8.8|   72895.0|\n|    1|tm127384|Monty Python and ...|MOVIE|        1975|               PG|   91.0|tt0071853|       8.2|  530877.0|\n|    5| tm14873|         Dirty Harry|MOVIE|        1971|                R|  102.0|tt0066999|       7.7|  153463.0|\n|    3|tm190788|        The Exorcist|MOVIE|        1973|                R|  133.0|tt0070047|       8.1|  391942.0|\n+-----+--------+--------------------+-----+------------+-----------------+-------+---------+----------+----------+\nonly showing top 5 rows\n\n"
     ]
    }
   ],
   "source": [
    "### Round IMDB Score columns to 2 places\n",
    "df = df.withColumn('imdb_score',round(df['imdb_score'],2))\n",
    "df.show(5)"
   ]
  },
  {
   "cell_type": "code",
   "execution_count": 0,
   "metadata": {
    "application/vnd.databricks.v1+cell": {
     "cellMetadata": {
      "byteLimit": 2048000,
      "rowLimit": 10000
     },
     "inputWidgets": {},
     "nuid": "8e631171-ae0b-45de-9b47-fb0923fa46c3",
     "showTitle": false,
     "title": ""
    }
   },
   "outputs": [
    {
     "output_type": "stream",
     "name": "stdout",
     "output_type": "stream",
     "text": [
      "+-----+--------+--------------------+-----+------------+-----------------+-------+---------+----------+----------+\n|index|      id|               title| type|release_year|age_certification|runtime|  imdb_id|imdb_score|imdb_votes|\n+-----+--------+--------------------+-----+------------+-----------------+-------+---------+----------+----------+\n|    2| tm70993|       Life of Brian|MOVIE|        1979|                R|   94.0|tt0079470|       8.0|  392419.0|\n|    4| ts22164|Monty Python's Fl...| SHOW|        1969|            TV-14|   30.0|tt0063929|       8.8|   72895.0|\n|    1|tm127384|Monty Python and ...|MOVIE|        1975|               PG|   91.0|tt0071853|       8.2|  530877.0|\n|    5| tm14873|         Dirty Harry|MOVIE|        1971|                R|  102.0|tt0066999|       7.7|  153463.0|\n|    3|tm190788|        The Exorcist|MOVIE|        1973|                R|  133.0|tt0070047|       8.1|  391942.0|\n+-----+--------+--------------------+-----+------------+-----------------+-------+---------+----------+----------+\nonly showing top 5 rows\n\n"
     ]
    }
   ],
   "source": [
    "### Replace Null values in number columns to 0\n",
    "df = df.na.fill(value=0, subset=['imdb_score','imdb_votes','release_year','runtime'])\n",
    "df.show(5)"
   ]
  },
  {
   "cell_type": "code",
   "execution_count": 0,
   "metadata": {
    "application/vnd.databricks.v1+cell": {
     "cellMetadata": {
      "byteLimit": 2048000,
      "rowLimit": 10000
     },
     "inputWidgets": {},
     "nuid": "df6e8bf1-fb1d-45da-ac82-b6c95784986a",
     "showTitle": false,
     "title": ""
    }
   },
   "outputs": [
    {
     "output_type": "stream",
     "name": "stdout",
     "output_type": "stream",
     "text": [
      "+-----+--------+--------------------+-----+------------+-----------------+-------+---------+----------+----------+\n|index|      id|               title| type|release_year|age_certification|runtime|  imdb_id|imdb_score|imdb_votes|\n+-----+--------+--------------------+-----+------------+-----------------+-------+---------+----------+----------+\n|    2| tm70993|       Life of Brian|MOVIE|        1979|                R|   94.0|tt0079470|       8.0|  392419.0|\n|    4| ts22164|Monty Python's Fl...| SHOW|        1969|            TV-14|   30.0|tt0063929|       8.8|   72895.0|\n|    1|tm127384|Monty Python and ...|MOVIE|        1975|               PG|   91.0|tt0071853|       8.2|  530877.0|\n|    5| tm14873|         Dirty Harry|MOVIE|        1971|                R|  102.0|tt0066999|       7.7|  153463.0|\n|    3|tm190788|        The Exorcist|MOVIE|        1973|                R|  133.0|tt0070047|       8.1|  391942.0|\n+-----+--------+--------------------+-----+------------+-----------------+-------+---------+----------+----------+\nonly showing top 5 rows\n\n"
     ]
    }
   ],
   "source": [
    "### Replace Null values in string column to NA\n",
    "df = df.na.fill(value='NA', subset=['age_certification'])\n",
    "df.show(5)"
   ]
  },
  {
   "cell_type": "code",
   "execution_count": 0,
   "metadata": {
    "application/vnd.databricks.v1+cell": {
     "cellMetadata": {
      "byteLimit": 2048000,
      "rowLimit": 10000
     },
     "inputWidgets": {},
     "nuid": "c298cea6-1745-44e8-a723-e317c7bc0b40",
     "showTitle": false,
     "title": ""
    }
   },
   "outputs": [
    {
     "output_type": "stream",
     "name": "stdout",
     "output_type": "stream",
     "text": [
      "+-----+--------+--------------------+-----+------------+-----------------+-------+---------+----------+----------+\n|index|      id|               title| type|release_year|age_certification|runtime|  imdb_id|imdb_score|imdb_votes|\n+-----+--------+--------------------+-----+------------+-----------------+-------+---------+----------+----------+\n|    2| tm70993|       Life of Brian|movie|        1979|                R|   94.0|tt0079470|       8.0|  392419.0|\n|    4| ts22164|Monty Python's Fl...| show|        1969|            TV-14|   30.0|tt0063929|       8.8|   72895.0|\n|    1|tm127384|Monty Python and ...|movie|        1975|               PG|   91.0|tt0071853|       8.2|  530877.0|\n|    5| tm14873|         Dirty Harry|movie|        1971|                R|  102.0|tt0066999|       7.7|  153463.0|\n|    3|tm190788|        The Exorcist|movie|        1973|                R|  133.0|tt0070047|       8.1|  391942.0|\n+-----+--------+--------------------+-----+------------+-----------------+-------+---------+----------+----------+\nonly showing top 5 rows\n\n"
     ]
    }
   ],
   "source": [
    "### To lower the type value\n",
    "df = df.withColumn('type',lower(df['type']))\n",
    "df.show(5)"
   ]
  },
  {
   "cell_type": "markdown",
   "metadata": {
    "application/vnd.databricks.v1+cell": {
     "cellMetadata": {
      "byteLimit": 2048000,
      "rowLimit": 10000
     },
     "inputWidgets": {},
     "nuid": "779a6011-7fd9-4c32-9a6f-a6b0f3860793",
     "showTitle": false,
     "title": ""
    }
   },
   "source": [
    "### Write Data to a new CSV file"
   ]
  },
  {
   "cell_type": "code",
   "execution_count": 0,
   "metadata": {
    "application/vnd.databricks.v1+cell": {
     "cellMetadata": {
      "byteLimit": 2048000,
      "rowLimit": 10000
     },
     "inputWidgets": {},
     "nuid": "e1d46a91-c924-4263-b4d7-3355dcab402e",
     "showTitle": false,
     "title": ""
    }
   },
   "outputs": [
    {
     "output_type": "display_data",
     "data": {
      "text/plain": [
       "\u001B[0;31m---------------------------------------------------------------------------\u001B[0m\n",
       "\u001B[0;31mAnalysisException\u001B[0m                         Traceback (most recent call last)\n",
       "File \u001B[0;32m<command-86764979863222>:1\u001B[0m\n",
       "\u001B[0;32m----> 1\u001B[0m \u001B[43mdf\u001B[49m\u001B[38;5;241;43m.\u001B[39;49m\u001B[43mcoalesce\u001B[49m\u001B[43m(\u001B[49m\u001B[38;5;241;43m1\u001B[39;49m\u001B[43m)\u001B[49m\u001B[38;5;241;43m.\u001B[39;49m\u001B[43mwrite\u001B[49m\u001B[38;5;241;43m.\u001B[39;49m\u001B[43mcsv\u001B[49m\u001B[43m(\u001B[49m\u001B[38;5;124;43m'\u001B[39;49m\u001B[38;5;124;43mdbfs:/FileStore/tables/cleansedNetflix.csv\u001B[39;49m\u001B[38;5;124;43m'\u001B[39;49m\u001B[43m)\u001B[49m\n",
       "\n",
       "File \u001B[0;32m/databricks/spark/python/pyspark/instrumentation_utils.py:48\u001B[0m, in \u001B[0;36m_wrap_function.<locals>.wrapper\u001B[0;34m(*args, **kwargs)\u001B[0m\n",
       "\u001B[1;32m     46\u001B[0m start \u001B[38;5;241m=\u001B[39m time\u001B[38;5;241m.\u001B[39mperf_counter()\n",
       "\u001B[1;32m     47\u001B[0m \u001B[38;5;28;01mtry\u001B[39;00m:\n",
       "\u001B[0;32m---> 48\u001B[0m     res \u001B[38;5;241m=\u001B[39m \u001B[43mfunc\u001B[49m\u001B[43m(\u001B[49m\u001B[38;5;241;43m*\u001B[39;49m\u001B[43margs\u001B[49m\u001B[43m,\u001B[49m\u001B[43m \u001B[49m\u001B[38;5;241;43m*\u001B[39;49m\u001B[38;5;241;43m*\u001B[39;49m\u001B[43mkwargs\u001B[49m\u001B[43m)\u001B[49m\n",
       "\u001B[1;32m     49\u001B[0m     logger\u001B[38;5;241m.\u001B[39mlog_success(\n",
       "\u001B[1;32m     50\u001B[0m         module_name, class_name, function_name, time\u001B[38;5;241m.\u001B[39mperf_counter() \u001B[38;5;241m-\u001B[39m start, signature\n",
       "\u001B[1;32m     51\u001B[0m     )\n",
       "\u001B[1;32m     52\u001B[0m     \u001B[38;5;28;01mreturn\u001B[39;00m res\n",
       "\n",
       "File \u001B[0;32m/databricks/spark/python/pyspark/sql/readwriter.py:1798\u001B[0m, in \u001B[0;36mDataFrameWriter.csv\u001B[0;34m(self, path, mode, compression, sep, quote, escape, header, nullValue, escapeQuotes, quoteAll, dateFormat, timestampFormat, ignoreLeadingWhiteSpace, ignoreTrailingWhiteSpace, charToEscapeQuoteEscaping, encoding, emptyValue, lineSep)\u001B[0m\n",
       "\u001B[1;32m   1779\u001B[0m \u001B[38;5;28mself\u001B[39m\u001B[38;5;241m.\u001B[39mmode(mode)\n",
       "\u001B[1;32m   1780\u001B[0m \u001B[38;5;28mself\u001B[39m\u001B[38;5;241m.\u001B[39m_set_opts(\n",
       "\u001B[1;32m   1781\u001B[0m     compression\u001B[38;5;241m=\u001B[39mcompression,\n",
       "\u001B[1;32m   1782\u001B[0m     sep\u001B[38;5;241m=\u001B[39msep,\n",
       "\u001B[0;32m   (...)\u001B[0m\n",
       "\u001B[1;32m   1796\u001B[0m     lineSep\u001B[38;5;241m=\u001B[39mlineSep,\n",
       "\u001B[1;32m   1797\u001B[0m )\n",
       "\u001B[0;32m-> 1798\u001B[0m \u001B[38;5;28;43mself\u001B[39;49m\u001B[38;5;241;43m.\u001B[39;49m\u001B[43m_jwrite\u001B[49m\u001B[38;5;241;43m.\u001B[39;49m\u001B[43mcsv\u001B[49m\u001B[43m(\u001B[49m\u001B[43mpath\u001B[49m\u001B[43m)\u001B[49m\n",
       "\n",
       "File \u001B[0;32m/databricks/spark/python/lib/py4j-0.10.9.5-src.zip/py4j/java_gateway.py:1321\u001B[0m, in \u001B[0;36mJavaMember.__call__\u001B[0;34m(self, *args)\u001B[0m\n",
       "\u001B[1;32m   1315\u001B[0m command \u001B[38;5;241m=\u001B[39m proto\u001B[38;5;241m.\u001B[39mCALL_COMMAND_NAME \u001B[38;5;241m+\u001B[39m\\\n",
       "\u001B[1;32m   1316\u001B[0m     \u001B[38;5;28mself\u001B[39m\u001B[38;5;241m.\u001B[39mcommand_header \u001B[38;5;241m+\u001B[39m\\\n",
       "\u001B[1;32m   1317\u001B[0m     args_command \u001B[38;5;241m+\u001B[39m\\\n",
       "\u001B[1;32m   1318\u001B[0m     proto\u001B[38;5;241m.\u001B[39mEND_COMMAND_PART\n",
       "\u001B[1;32m   1320\u001B[0m answer \u001B[38;5;241m=\u001B[39m \u001B[38;5;28mself\u001B[39m\u001B[38;5;241m.\u001B[39mgateway_client\u001B[38;5;241m.\u001B[39msend_command(command)\n",
       "\u001B[0;32m-> 1321\u001B[0m return_value \u001B[38;5;241m=\u001B[39m \u001B[43mget_return_value\u001B[49m\u001B[43m(\u001B[49m\n",
       "\u001B[1;32m   1322\u001B[0m \u001B[43m    \u001B[49m\u001B[43manswer\u001B[49m\u001B[43m,\u001B[49m\u001B[43m \u001B[49m\u001B[38;5;28;43mself\u001B[39;49m\u001B[38;5;241;43m.\u001B[39;49m\u001B[43mgateway_client\u001B[49m\u001B[43m,\u001B[49m\u001B[43m \u001B[49m\u001B[38;5;28;43mself\u001B[39;49m\u001B[38;5;241;43m.\u001B[39;49m\u001B[43mtarget_id\u001B[49m\u001B[43m,\u001B[49m\u001B[43m \u001B[49m\u001B[38;5;28;43mself\u001B[39;49m\u001B[38;5;241;43m.\u001B[39;49m\u001B[43mname\u001B[49m\u001B[43m)\u001B[49m\n",
       "\u001B[1;32m   1324\u001B[0m \u001B[38;5;28;01mfor\u001B[39;00m temp_arg \u001B[38;5;129;01min\u001B[39;00m temp_args:\n",
       "\u001B[1;32m   1325\u001B[0m     temp_arg\u001B[38;5;241m.\u001B[39m_detach()\n",
       "\n",
       "File \u001B[0;32m/databricks/spark/python/pyspark/errors/exceptions.py:234\u001B[0m, in \u001B[0;36mcapture_sql_exception.<locals>.deco\u001B[0;34m(*a, **kw)\u001B[0m\n",
       "\u001B[1;32m    230\u001B[0m converted \u001B[38;5;241m=\u001B[39m convert_exception(e\u001B[38;5;241m.\u001B[39mjava_exception)\n",
       "\u001B[1;32m    231\u001B[0m \u001B[38;5;28;01mif\u001B[39;00m \u001B[38;5;129;01mnot\u001B[39;00m \u001B[38;5;28misinstance\u001B[39m(converted, UnknownException):\n",
       "\u001B[1;32m    232\u001B[0m     \u001B[38;5;66;03m# Hide where the exception came from that shows a non-Pythonic\u001B[39;00m\n",
       "\u001B[1;32m    233\u001B[0m     \u001B[38;5;66;03m# JVM exception message.\u001B[39;00m\n",
       "\u001B[0;32m--> 234\u001B[0m     \u001B[38;5;28;01mraise\u001B[39;00m converted \u001B[38;5;28;01mfrom\u001B[39;00m \u001B[38;5;28mNone\u001B[39m\n",
       "\u001B[1;32m    235\u001B[0m \u001B[38;5;28;01melse\u001B[39;00m:\n",
       "\u001B[1;32m    236\u001B[0m     \u001B[38;5;28;01mraise\u001B[39;00m\n",
       "\n",
       "\u001B[0;31mAnalysisException\u001B[0m: Path dbfs:/FileStore/tables/cleansedNetflix.csv already exists."
      ]
     },
     "metadata": {
      "application/vnd.databricks.v1+output": {
       "arguments": {},
       "data": "\u001B[0;31m---------------------------------------------------------------------------\u001B[0m\n\u001B[0;31mAnalysisException\u001B[0m                         Traceback (most recent call last)\nFile \u001B[0;32m<command-86764979863222>:1\u001B[0m\n\u001B[0;32m----> 1\u001B[0m \u001B[43mdf\u001B[49m\u001B[38;5;241;43m.\u001B[39;49m\u001B[43mcoalesce\u001B[49m\u001B[43m(\u001B[49m\u001B[38;5;241;43m1\u001B[39;49m\u001B[43m)\u001B[49m\u001B[38;5;241;43m.\u001B[39;49m\u001B[43mwrite\u001B[49m\u001B[38;5;241;43m.\u001B[39;49m\u001B[43mcsv\u001B[49m\u001B[43m(\u001B[49m\u001B[38;5;124;43m'\u001B[39;49m\u001B[38;5;124;43mdbfs:/FileStore/tables/cleansedNetflix.csv\u001B[39;49m\u001B[38;5;124;43m'\u001B[39;49m\u001B[43m)\u001B[49m\n\nFile \u001B[0;32m/databricks/spark/python/pyspark/instrumentation_utils.py:48\u001B[0m, in \u001B[0;36m_wrap_function.<locals>.wrapper\u001B[0;34m(*args, **kwargs)\u001B[0m\n\u001B[1;32m     46\u001B[0m start \u001B[38;5;241m=\u001B[39m time\u001B[38;5;241m.\u001B[39mperf_counter()\n\u001B[1;32m     47\u001B[0m \u001B[38;5;28;01mtry\u001B[39;00m:\n\u001B[0;32m---> 48\u001B[0m     res \u001B[38;5;241m=\u001B[39m \u001B[43mfunc\u001B[49m\u001B[43m(\u001B[49m\u001B[38;5;241;43m*\u001B[39;49m\u001B[43margs\u001B[49m\u001B[43m,\u001B[49m\u001B[43m \u001B[49m\u001B[38;5;241;43m*\u001B[39;49m\u001B[38;5;241;43m*\u001B[39;49m\u001B[43mkwargs\u001B[49m\u001B[43m)\u001B[49m\n\u001B[1;32m     49\u001B[0m     logger\u001B[38;5;241m.\u001B[39mlog_success(\n\u001B[1;32m     50\u001B[0m         module_name, class_name, function_name, time\u001B[38;5;241m.\u001B[39mperf_counter() \u001B[38;5;241m-\u001B[39m start, signature\n\u001B[1;32m     51\u001B[0m     )\n\u001B[1;32m     52\u001B[0m     \u001B[38;5;28;01mreturn\u001B[39;00m res\n\nFile \u001B[0;32m/databricks/spark/python/pyspark/sql/readwriter.py:1798\u001B[0m, in \u001B[0;36mDataFrameWriter.csv\u001B[0;34m(self, path, mode, compression, sep, quote, escape, header, nullValue, escapeQuotes, quoteAll, dateFormat, timestampFormat, ignoreLeadingWhiteSpace, ignoreTrailingWhiteSpace, charToEscapeQuoteEscaping, encoding, emptyValue, lineSep)\u001B[0m\n\u001B[1;32m   1779\u001B[0m \u001B[38;5;28mself\u001B[39m\u001B[38;5;241m.\u001B[39mmode(mode)\n\u001B[1;32m   1780\u001B[0m \u001B[38;5;28mself\u001B[39m\u001B[38;5;241m.\u001B[39m_set_opts(\n\u001B[1;32m   1781\u001B[0m     compression\u001B[38;5;241m=\u001B[39mcompression,\n\u001B[1;32m   1782\u001B[0m     sep\u001B[38;5;241m=\u001B[39msep,\n\u001B[0;32m   (...)\u001B[0m\n\u001B[1;32m   1796\u001B[0m     lineSep\u001B[38;5;241m=\u001B[39mlineSep,\n\u001B[1;32m   1797\u001B[0m )\n\u001B[0;32m-> 1798\u001B[0m \u001B[38;5;28;43mself\u001B[39;49m\u001B[38;5;241;43m.\u001B[39;49m\u001B[43m_jwrite\u001B[49m\u001B[38;5;241;43m.\u001B[39;49m\u001B[43mcsv\u001B[49m\u001B[43m(\u001B[49m\u001B[43mpath\u001B[49m\u001B[43m)\u001B[49m\n\nFile \u001B[0;32m/databricks/spark/python/lib/py4j-0.10.9.5-src.zip/py4j/java_gateway.py:1321\u001B[0m, in \u001B[0;36mJavaMember.__call__\u001B[0;34m(self, *args)\u001B[0m\n\u001B[1;32m   1315\u001B[0m command \u001B[38;5;241m=\u001B[39m proto\u001B[38;5;241m.\u001B[39mCALL_COMMAND_NAME \u001B[38;5;241m+\u001B[39m\\\n\u001B[1;32m   1316\u001B[0m     \u001B[38;5;28mself\u001B[39m\u001B[38;5;241m.\u001B[39mcommand_header \u001B[38;5;241m+\u001B[39m\\\n\u001B[1;32m   1317\u001B[0m     args_command \u001B[38;5;241m+\u001B[39m\\\n\u001B[1;32m   1318\u001B[0m     proto\u001B[38;5;241m.\u001B[39mEND_COMMAND_PART\n\u001B[1;32m   1320\u001B[0m answer \u001B[38;5;241m=\u001B[39m \u001B[38;5;28mself\u001B[39m\u001B[38;5;241m.\u001B[39mgateway_client\u001B[38;5;241m.\u001B[39msend_command(command)\n\u001B[0;32m-> 1321\u001B[0m return_value \u001B[38;5;241m=\u001B[39m \u001B[43mget_return_value\u001B[49m\u001B[43m(\u001B[49m\n\u001B[1;32m   1322\u001B[0m \u001B[43m    \u001B[49m\u001B[43manswer\u001B[49m\u001B[43m,\u001B[49m\u001B[43m \u001B[49m\u001B[38;5;28;43mself\u001B[39;49m\u001B[38;5;241;43m.\u001B[39;49m\u001B[43mgateway_client\u001B[49m\u001B[43m,\u001B[49m\u001B[43m \u001B[49m\u001B[38;5;28;43mself\u001B[39;49m\u001B[38;5;241;43m.\u001B[39;49m\u001B[43mtarget_id\u001B[49m\u001B[43m,\u001B[49m\u001B[43m \u001B[49m\u001B[38;5;28;43mself\u001B[39;49m\u001B[38;5;241;43m.\u001B[39;49m\u001B[43mname\u001B[49m\u001B[43m)\u001B[49m\n\u001B[1;32m   1324\u001B[0m \u001B[38;5;28;01mfor\u001B[39;00m temp_arg \u001B[38;5;129;01min\u001B[39;00m temp_args:\n\u001B[1;32m   1325\u001B[0m     temp_arg\u001B[38;5;241m.\u001B[39m_detach()\n\nFile \u001B[0;32m/databricks/spark/python/pyspark/errors/exceptions.py:234\u001B[0m, in \u001B[0;36mcapture_sql_exception.<locals>.deco\u001B[0;34m(*a, **kw)\u001B[0m\n\u001B[1;32m    230\u001B[0m converted \u001B[38;5;241m=\u001B[39m convert_exception(e\u001B[38;5;241m.\u001B[39mjava_exception)\n\u001B[1;32m    231\u001B[0m \u001B[38;5;28;01mif\u001B[39;00m \u001B[38;5;129;01mnot\u001B[39;00m \u001B[38;5;28misinstance\u001B[39m(converted, UnknownException):\n\u001B[1;32m    232\u001B[0m     \u001B[38;5;66;03m# Hide where the exception came from that shows a non-Pythonic\u001B[39;00m\n\u001B[1;32m    233\u001B[0m     \u001B[38;5;66;03m# JVM exception message.\u001B[39;00m\n\u001B[0;32m--> 234\u001B[0m     \u001B[38;5;28;01mraise\u001B[39;00m converted \u001B[38;5;28;01mfrom\u001B[39;00m \u001B[38;5;28mNone\u001B[39m\n\u001B[1;32m    235\u001B[0m \u001B[38;5;28;01melse\u001B[39;00m:\n\u001B[1;32m    236\u001B[0m     \u001B[38;5;28;01mraise\u001B[39;00m\n\n\u001B[0;31mAnalysisException\u001B[0m: Path dbfs:/FileStore/tables/cleansedNetflix.csv already exists.",
       "errorSummary": "<span class='ansi-red-fg'>AnalysisException</span>: Path dbfs:/FileStore/tables/cleansedNetflix.csv already exists.",
       "errorTraceType": "ansi",
       "metadata": {},
       "type": "ipynbError"
      }
     },
     "output_type": "display_data"
    }
   ],
   "source": [
    "df.coalesce(1).write.csv('dbfs:/FileStore/tables/cleansedNetflix.csv')"
   ]
  },
  {
   "cell_type": "code",
   "execution_count": 0,
   "metadata": {
    "application/vnd.databricks.v1+cell": {
     "cellMetadata": {
      "byteLimit": 2048000,
      "rowLimit": 10000
     },
     "inputWidgets": {},
     "nuid": "90af6c55-bad6-48aa-bb4a-60c20cffe1c5",
     "showTitle": false,
     "title": ""
    }
   },
   "outputs": [
    {
     "output_type": "display_data",
     "data": {
      "text/plain": [
       ""
      ]
     },
     "metadata": {
      "application/vnd.databricks.v1+output": {
       "arguments": {},
       "data": "",
       "errorSummary": "Command skipped",
       "errorTraceType": "ansi",
       "metadata": {},
       "type": "ipynbError"
      }
     },
     "output_type": "display_data"
    }
   ],
   "source": [
    "dbutils.fs.rm('dbfs:/FileStore/tables/cleansedNetflixData.csv',True)"
   ]
  },
  {
   "cell_type": "code",
   "execution_count": 0,
   "metadata": {
    "application/vnd.databricks.v1+cell": {
     "cellMetadata": {
      "byteLimit": 2048000,
      "rowLimit": 10000
     },
     "inputWidgets": {},
     "nuid": "8e88a1d9-71a3-488a-ae22-63fbdaf36213",
     "showTitle": false,
     "title": ""
    }
   },
   "outputs": [],
   "source": []
  }
 ],
 "metadata": {
  "application/vnd.databricks.v1+notebook": {
   "dashboards": [],
   "language": "python",
   "notebookMetadata": {
    "pythonIndentUnit": 4
   },
   "notebookName": "ETL Template",
   "widgets": {}
  }
 },
 "nbformat": 4,
 "nbformat_minor": 0
}
